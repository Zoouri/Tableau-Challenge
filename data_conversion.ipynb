{
 "cells": [
  {
   "cell_type": "code",
   "execution_count": 1,
   "metadata": {},
   "outputs": [],
   "source": [
    "import pandas as pd"
   ]
  },
  {
   "cell_type": "code",
   "execution_count": 2,
   "metadata": {},
   "outputs": [
    {
     "name": "stdout",
     "output_type": "stream",
     "text": [
      "(55613, 13)\n",
      "(50661, 13)\n"
     ]
    }
   ],
   "source": [
    "# Changing types to ease future analysis\n",
    "dtypes = {'ride_id':str,\n",
    "          'rideable_type': str,\n",
    "          'started_at': pd.Timestamp,\n",
    "          'ended_at': pd.Timestamp,\n",
    "          'start_station_name': 'str',\n",
    "          'start_station_id': 'str',\n",
    "          'end_station_name': 'str',\n",
    "          'end_station_id':'str',\n",
    "          'start_lat': float,\n",
    "          'start_lng': float,\n",
    "          'end_lat': float,\n",
    "          'end_lng': float,\n",
    "          'member_casual': 'str'}\n",
    "\n",
    "# Loading data\n",
    "data_feb2024 = pd.read_csv(\"feb2024.csv\", header=0, parse_dates=[2,3])\n",
    "data_march2024 = pd.read_csv(\"march2024.csv\", header=0, parse_dates=[2,3])\n",
    "\n",
    "print(data_feb2024.shape)\n",
    "print(data_march2024.shape)"
   ]
  },
  {
   "cell_type": "code",
   "execution_count": 3,
   "metadata": {},
   "outputs": [
    {
     "name": "stdout",
     "output_type": "stream",
     "text": [
      "<class 'pandas.core.frame.DataFrame'>\n",
      "RangeIndex: 55613 entries, 0 to 55612\n",
      "Data columns (total 13 columns):\n",
      " #   Column              Non-Null Count  Dtype         \n",
      "---  ------              --------------  -----         \n",
      " 0   ride_id             55613 non-null  object        \n",
      " 1   rideable_type       55613 non-null  object        \n",
      " 2   started_at          55613 non-null  datetime64[ns]\n",
      " 3   ended_at            55613 non-null  datetime64[ns]\n",
      " 4   start_station_name  55607 non-null  object        \n",
      " 5   start_station_id    55607 non-null  object        \n",
      " 6   end_station_name    55484 non-null  object        \n",
      " 7   end_station_id      55484 non-null  object        \n",
      " 8   start_lat           55613 non-null  float64       \n",
      " 9   start_lng           55613 non-null  float64       \n",
      " 10  end_lat             55597 non-null  float64       \n",
      " 11  end_lng             55597 non-null  float64       \n",
      " 12  member_casual       55613 non-null  object        \n",
      "dtypes: datetime64[ns](2), float64(4), object(7)\n",
      "memory usage: 5.5+ MB\n"
     ]
    }
   ],
   "source": [
    "# Checking the conversion for February data\n",
    "data_feb2024.info()"
   ]
  },
  {
   "cell_type": "code",
   "execution_count": 4,
   "metadata": {},
   "outputs": [
    {
     "name": "stdout",
     "output_type": "stream",
     "text": [
      "<class 'pandas.core.frame.DataFrame'>\n",
      "RangeIndex: 50661 entries, 0 to 50660\n",
      "Data columns (total 13 columns):\n",
      " #   Column              Non-Null Count  Dtype         \n",
      "---  ------              --------------  -----         \n",
      " 0   ride_id             50661 non-null  object        \n",
      " 1   rideable_type       50661 non-null  object        \n",
      " 2   started_at          50661 non-null  datetime64[ns]\n",
      " 3   ended_at            50661 non-null  datetime64[ns]\n",
      " 4   start_station_name  50660 non-null  object        \n",
      " 5   start_station_id    50660 non-null  object        \n",
      " 6   end_station_name    50494 non-null  object        \n",
      " 7   end_station_id      50494 non-null  object        \n",
      " 8   start_lat           50661 non-null  float64       \n",
      " 9   start_lng           50661 non-null  float64       \n",
      " 10  end_lat             50640 non-null  float64       \n",
      " 11  end_lng             50640 non-null  float64       \n",
      " 12  member_casual       50661 non-null  object        \n",
      "dtypes: datetime64[ns](2), float64(4), object(7)\n",
      "memory usage: 5.0+ MB\n"
     ]
    }
   ],
   "source": [
    "# Checking ther conversion for March data\n",
    "data_march2024.info()"
   ]
  },
  {
   "cell_type": "code",
   "execution_count": 5,
   "metadata": {},
   "outputs": [
    {
     "name": "stdout",
     "output_type": "stream",
     "text": [
      "(105971, 12)\n",
      "<class 'pandas.core.frame.DataFrame'>\n",
      "Index: 105971 entries, 0 to 50660\n",
      "Data columns (total 12 columns):\n",
      " #   Column              Non-Null Count   Dtype         \n",
      "---  ------              --------------   -----         \n",
      " 0   rideable_type       105971 non-null  object        \n",
      " 1   started_at          105971 non-null  datetime64[ns]\n",
      " 2   ended_at            105971 non-null  datetime64[ns]\n",
      " 3   start_station_name  105971 non-null  object        \n",
      " 4   start_station_id    105971 non-null  object        \n",
      " 5   end_station_name    105971 non-null  object        \n",
      " 6   end_station_id      105971 non-null  object        \n",
      " 7   start_lat           105971 non-null  float64       \n",
      " 8   start_lng           105971 non-null  float64       \n",
      " 9   end_lat             105971 non-null  float64       \n",
      " 10  end_lng             105971 non-null  float64       \n",
      " 11  member_casual       105971 non-null  object        \n",
      "dtypes: datetime64[ns](2), float64(4), object(6)\n",
      "memory usage: 10.5+ MB\n"
     ]
    }
   ],
   "source": [
    "# Re-naming the information for improved readability \n",
    "map_rideable_type = {\"classic_bike\": \"C\",\n",
    "                     \"electric_bike\": \"E\",\n",
    "                     \"docked_bike\": \"D\"}\n",
    "\n",
    "\n",
    "df_month = pd.concat([data_feb2024, data_march2024])\n",
    "\n",
    "# Dropping the id column - it is not relevant\n",
    "df_month.drop(\"ride_id\", axis=1, inplace=True) \n",
    "\n",
    "# Dropping columns with missing values\n",
    "df_month.dropna(axis=0, inplace=True)  \n",
    "\n",
    "\n",
    "# Mapping strings to shorter values\n",
    "df_month[\"rideable_type\"] = df_month[\"rideable_type\"].map(map_rideable_type)\n",
    "\n",
    "print(df_month.shape)\n",
    "df_month.info()"
   ]
  },
  {
   "cell_type": "code",
   "execution_count": 6,
   "metadata": {},
   "outputs": [],
   "source": [
    "# Saving dataframe to CSV file for further visualization in Tableau\n",
    "df_month.to_csv(\"citibike_month_data_2023.csv\", index = False, header = True)"
   ]
  },
  {
   "cell_type": "code",
   "execution_count": null,
   "metadata": {},
   "outputs": [],
   "source": []
  }
 ],
 "metadata": {
  "kernelspec": {
   "display_name": "ola",
   "language": "python",
   "name": "python3"
  },
  "language_info": {
   "codemirror_mode": {
    "name": "ipython",
    "version": 3
   },
   "file_extension": ".py",
   "mimetype": "text/x-python",
   "name": "python",
   "nbconvert_exporter": "python",
   "pygments_lexer": "ipython3",
   "version": "3.10.13"
  }
 },
 "nbformat": 4,
 "nbformat_minor": 2
}
